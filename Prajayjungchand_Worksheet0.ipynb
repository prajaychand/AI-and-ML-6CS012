{
  "cells": [
    {
      "cell_type": "markdown",
      "metadata": {
        "id": "eDjZ30DVXhol"
      },
      "source": [
        "4.1 Exercise on Functions:\n",
        "Task - 1:\n",
        "Create a Python program that converts between different units of measurement.\n",
        "• The program should:\n",
        "1. Prompt the user to choose the type of conversion (e.g., length, weight, volume).\n",
        "2. Ask the user to input the value to be converted.\n",
        "3. Perform the conversion and display the result.\n",
        "4. Handle potential errors, such as invalid input or unsupported conversion types.\n",
        "• Requirements:\n",
        "1. Functions: Define at least one function to perform the conversion.\n",
        "2. Error Handling: Use try-except blocks to handle invalid input (e.g., non-numeric values).\n",
        "3. User Input: Prompt the user to select the conversion type and input the value.\n",
        "4. Docstrings: Include a docstring in your function to describe its purpose, parameters, and\n",
        "return value.\n",
        "• Conversion Options:\n",
        "1. Length:\n",
        "– Convert meters (m) to feet (ft).\n",
        "– Convert feet (ft) to meters (m).\n",
        "2. Weight:\n",
        "– Convert kilograms (kg) to pounds (lbs).\n",
        "– Convert pounds (lbs) to kilograms (kg).\n",
        "3. Volume:\n",
        "– Convert liters (L) to gallons (gal).\n",
        "– Convert gallons (gal) to liters (L)."
      ]
    },
    {
      "cell_type": "code",
      "execution_count": 1,
      "metadata": {
        "colab": {
          "base_uri": "https://localhost:8080/"
        },
        "id": "PDapRQ1MXhoo",
        "outputId": "532d7815-facc-4afb-9666-349156c5c814"
      },
      "outputs": [
        {
          "name": "stdout",
          "output_type": "stream",
          "text": [
            "Choose conversion type : \n",
            " 1. Length (m-ft) \n",
            " 2. Weight (lg-lbs) \n",
            " 3. Volume (L-gal) \n",
            "\n",
            "Enter your choice (1/2/3) : `1\n",
            "Error: invalid literal for int() with base 10: '`1'. Please enter a valid numeric value and unit\n"
          ]
        }
      ],
      "source": [
        "def convert_length (value, unit) :\n",
        "  if unit == 'm':\n",
        "    return value * 3.28084\n",
        "  elif unit == 'ft':\n",
        "    return value / 3.28084\n",
        "  else:\n",
        "    raise ValueError(\"Unsupported length unit\")\n",
        "def convert_weight (value, unit):\n",
        "  if unit == 'kg':\n",
        "    return value * 2.20462\n",
        "  elif unit == 'lb':\n",
        "    return value / 2.20462\n",
        "  else :\n",
        "    raise ValueError(\"Unsupported weight unit\");\n",
        "\n",
        "def convert_volume (value, unit):\n",
        "  if unit == 'l' :\n",
        "    return value * 0.264172\n",
        "  elif unit == 'gal' :\n",
        "    return value / 0.264172\n",
        "  else :\n",
        "    raise ValueError(\"Unsupported volume unit\")\n",
        "def main() :\n",
        "  print(\"Choose conversion type : \\n 1. Length (m-ft) \\n 2. Weight (lg-lbs) \\n 3. Volume (L-gal) \\n\")\n",
        "  try :\n",
        "    choice = int(input(\"Enter your choice (1/2/3) : \"))\n",
        "    if choice not in [1, 2, 3] :\n",
        "      print(\"Invalid choice. Please enter 1/2/3\")\n",
        "      return\n",
        "    value = int(input(\"Enter value to convert: \"))\n",
        "    if choice == 1 :\n",
        "      unit = input(\"Enter unit (m/ft) : \")\n",
        "      print(f\"Converted value : {convert_length(value, unit)}\")\n",
        "    elif choice == 2 :\n",
        "      unit = input(\"Enter unit (kg/lb) : \")\n",
        "      print(f\"Converted value : {convert_weight(value, unit)}\")\n",
        "    elif choice == 3 :\n",
        "      unit = input(\"Enter unit (l/gal) : \")\n",
        "      print(f\"Converted value : {convert_volume(value, unit)}\")\n",
        "  except ValueError as e :\n",
        "      print(f\"Error: {e}. Please enter a valid numeric value and unit\")\n",
        "  except Exception as e :\n",
        "      print(f\"An unexpected error occurred: {e}\")\n",
        "if __name__ == \"__main__\":\n",
        "  main()\n",
        "\n",
        "\n",
        "\n"
      ]
    },
    {
      "cell_type": "markdown",
      "metadata": {
        "id": "y8uEJI4AXhoq"
      },
      "source": [
        "Task - 2:\n",
        "Create a Python program that performs various mathematical operations on a list of numbers.\n",
        "• The Program should:\n",
        "1. Prompt the user to choose an operation (e.g., find the sum, average, maximum, or minimum\n",
        "of the numbers).\n",
        "2. Ask the user to input a list of numbers (separated by spaces).\n",
        "\n",
        "18\n",
        "\n",
        "6CS012 Worksheet - 0 Siman Giri\n",
        "\n",
        "3. Perform the selected operation and display the result.\n",
        "4. Handle potential errors, such as invalid input or empty lists.\n",
        "• Requirements:\n",
        "\n",
        "1. Functions: Define at least one function for each operation (sum, average, maximum, mini-\n",
        "mum).\n",
        "\n",
        "2. Error Handling: Use try-except blocks to handle invalid input (e.g., non-numeric values or\n",
        "empty lists).\n",
        "3. User Input: Prompt the user to select the operation and input the list of numbers.\n",
        "4. Docstrings: Include a docstring in each function to describe its purpose, parameters, and\n",
        "return value."
      ]
    },
    {
      "cell_type": "code",
      "execution_count": 2,
      "metadata": {
        "colab": {
          "base_uri": "https://localhost:8080/"
        },
        "id": "-VuCFbeNXhoq",
        "outputId": "092d8599-0c73-4b85-8678-f9835c9d421e"
      },
      "outputs": [
        {
          "name": "stdout",
          "output_type": "stream",
          "text": [
            "Choose an operation\n",
            "1. Calculate Sum\n",
            "2. Calculate Average\n",
            "3. Find Maximum\n",
            "4. Find Minimum\n",
            "Enter your choice (1/2/3/4): 1\n",
            "Enter a list of numbers separated by spaces: 1\n",
            "Sum of numbers: 1.0\n"
          ]
        }
      ],
      "source": [
        "def calculate_sum(numbers):\n",
        "  return sum(numbers)\n",
        "\n",
        "def calculates_average(numbers):\n",
        "  return sum(numbers) / len(numbers) if numbers else 0\n",
        "\n",
        "def find_max(numbers):\n",
        "  return max(numbers) if numbers else None\n",
        "\n",
        "def find_min(numbers):\n",
        "  return min(numbers) if numbers else None\n",
        "def main():\n",
        "  print(\"Choose an operation\")\n",
        "  print(\"1. Calculate Sum\")\n",
        "  print(\"2. Calculate Average\")\n",
        "  print(\"3. Find Maximum\")\n",
        "  print(\"4. Find Minimum\")\n",
        "  try:\n",
        "    choice = int(input(\"Enter your choice (1/2/3/4): \"))\n",
        "    if choice not in [1, 2, 3, 4]:\n",
        "      print(\"Invalid choice. Please enter 1/2/3/4\")\n",
        "      return\n",
        "\n",
        "    user_input = input(\"Enter a list of numbers separated by spaces: \")\n",
        "    numbers = list(map(float, user_input.split()))\n",
        "\n",
        "    if not numbers:\n",
        "      print(\"Numbers cannot be zero\")\n",
        "      return\n",
        "    if choice == 1:\n",
        "      print(f\"Sum of numbers: {calculate_sum(numbers)}\")\n",
        "    elif choice == 2:\n",
        "      print(f\"Average of numbers: {calculates_average(numbers)}\")\n",
        "    elif choice == 3:\n",
        "      print(f\"Maximum value: {find_max(numbers)}\")\n",
        "    elif choice == 4:\n",
        "      print(f\"Minimum value: {find_min(numbers)}\")\n",
        "  except ValueError as e:\n",
        "    print(f\"Error: {e}. Please enter a valid list of numbers\")\n",
        "  except Exception as e:\n",
        "    print(f\"An unexpected error occurred: {e}\")\n",
        "if __name__ == \"__main__\":\n",
        "  main()"
      ]
    },
    {
      "cell_type": "markdown",
      "metadata": {
        "id": "NEt9amneXhor"
      },
      "source": [
        "4.2 Exercise on List Manipulation:\n",
        "1. Extract Every Other Element:\n",
        "Write a Python function that extracts every other element from a list, starting from the first element.\n",
        "• Requirements:\n",
        "– Define a function extract every other(lst) that takes a list lst as input and returns a\n",
        "new list containing every other element from the original list.\n",
        "– Example: For the input [1, 2, 3, 4, 5, 6], the output should be [1, 3, 5]."
      ]
    },
    {
      "cell_type": "code",
      "execution_count": 3,
      "metadata": {
        "colab": {
          "base_uri": "https://localhost:8080/"
        },
        "id": "9_MzjKR2Xhor",
        "outputId": "392d40e7-e171-40e6-a98d-31163c491264"
      },
      "outputs": [
        {
          "name": "stdout",
          "output_type": "stream",
          "text": [
            "[1, 3, 5]\n"
          ]
        }
      ],
      "source": [
        "def extract_every_other(lst):\n",
        "\n",
        "  return lst[::2]\n",
        "\n",
        "numbers = [1,2,3,4,5,6]\n",
        "result = extract_every_other(numbers)\n",
        "print(result)"
      ]
    },
    {
      "cell_type": "markdown",
      "metadata": {
        "id": "U-R8sxYLXhor"
      },
      "source": [
        "2. Slice a Sublist:\n",
        "Write a Python function that returns a sublist from a given list, starting from a specified index and\n",
        "ending at another specified index.\n",
        "• Requirements:\n",
        "– Define a function get sublist(lst, start, end) that takes a list lst, a starting index\n",
        "start, and an ending index end as input and returns the sublist from start to end (inclusive).\n",
        "– Example: For the input [1, 2, 3, 4, 5, 6] with start=2 and end=4, the output should\n",
        "be [3, 4, 5]."
      ]
    },
    {
      "cell_type": "code",
      "execution_count": 4,
      "metadata": {
        "colab": {
          "base_uri": "https://localhost:8080/"
        },
        "id": "Fu5Dr07lXhos",
        "outputId": "09cf4b41-e51e-4fa0-944f-d855fc67990f"
      },
      "outputs": [
        {
          "name": "stdout",
          "output_type": "stream",
          "text": [
            "[3, 4, 5]\n"
          ]
        }
      ],
      "source": [
        "def get_sublist(lst, start, end):\n",
        "    return lst[start:end+1]\n",
        "\n",
        "\n",
        "numbers = [1, 2, 3, 4, 5, 6]\n",
        "result = get_sublist(numbers, 2, 4)\n",
        "print(result)\n"
      ]
    },
    {
      "cell_type": "markdown",
      "metadata": {
        "id": "ToIF8dfWXhos"
      },
      "source": [
        "3. Reverse a List Using Slicing:\n",
        "Write a Python function that reverses a list using slicing.\n",
        "• Requirements:\n",
        "– Define a function reverse list(lst) that takes a list lst and returns a reversed list using\n",
        "slicing.\n",
        "– Example: For the input [1, 2, 3, 4, 5], the output should be [5, 4, 3, 2, 1]."
      ]
    },
    {
      "cell_type": "code",
      "execution_count": 5,
      "metadata": {
        "colab": {
          "base_uri": "https://localhost:8080/"
        },
        "id": "RjggRUPRXhos",
        "outputId": "81051a6c-3c12-4aff-de84-54f785f21861"
      },
      "outputs": [
        {
          "name": "stdout",
          "output_type": "stream",
          "text": [
            "[5, 4, 3, 2, 1]\n"
          ]
        }
      ],
      "source": [
        "def reverse_list(lst):\n",
        "    return lst[::-1]\n",
        "\n",
        "\n",
        "input_list = [1, 2, 3, 4, 5]\n",
        "output_list = reverse_list(input_list)\n",
        "\n",
        "print(output_list)\n"
      ]
    },
    {
      "cell_type": "markdown",
      "metadata": {
        "id": "2StJ9bxTXhos"
      },
      "source": [
        "4. Remove the First and Last Elements:\n",
        "Write a Python function that removes the first and last elements of a list and returns the resulting\n",
        "sublist.\n",
        "• Requirements:\n",
        "– Define a function remove first last(lst) that takes a list lst and returns a sublist without\n",
        "the first and last elements using slicing.\n",
        "– Example: For the input [1, 2, 3, 4, 5], the output should be [2, 3, 4]."
      ]
    },
    {
      "cell_type": "code",
      "execution_count": 6,
      "metadata": {
        "colab": {
          "base_uri": "https://localhost:8080/"
        },
        "id": "BhPVyMxNXhot",
        "outputId": "79b508e7-5175-47ea-e3b1-58252417facd"
      },
      "outputs": [
        {
          "name": "stdout",
          "output_type": "stream",
          "text": [
            "[2, 3, 4]\n"
          ]
        }
      ],
      "source": [
        "def remove_first_last(lst):\n",
        "    return lst[1:-1]\n",
        "input_list = [1, 2, 3, 4, 5]\n",
        "output_list = remove_first_last(input_list)\n",
        "\n",
        "print(output_list)\n"
      ]
    },
    {
      "cell_type": "markdown",
      "metadata": {
        "id": "FiHxsS56Xhot"
      },
      "source": [
        "5. Get the First n Elements:\n",
        "Write a Python function that extracts the first n elements from a list.\n",
        "• Requirements:\n",
        "– Define a function get first n(lst, n) that takes a list lst and an integer n as input and\n",
        "returns the first n elements of the list using slicing.\n",
        "– Example: For the input [1, 2, 3, 4, 5] with n=3, the output should be [1, 2, 3]."
      ]
    },
    {
      "cell_type": "code",
      "execution_count": 7,
      "metadata": {
        "colab": {
          "base_uri": "https://localhost:8080/"
        },
        "id": "K1DW8y_aXhot",
        "outputId": "4a341118-f875-49a8-b9e8-c3166e57f645"
      },
      "outputs": [
        {
          "name": "stdout",
          "output_type": "stream",
          "text": [
            "[1, 2, 3]\n"
          ]
        }
      ],
      "source": [
        "def get_first_n(lst, n):\n",
        "    return lst[:n]\n",
        "input_list = [1, 2, 3, 4, 5]\n",
        "n = 3\n",
        "output_list = get_first_n(input_list, n)\n",
        "\n",
        "print(output_list)\n"
      ]
    },
    {
      "cell_type": "markdown",
      "metadata": {
        "id": "n-D3s5tRXhot"
      },
      "source": [
        "6. Extract Elements from the End:\n",
        "Write a Python function that extracts the last n elements of a list using slicing.\n",
        "• Requirements:\n",
        "– Define a function get last n(lst, n) that takes a list lst and an integer n as input and\n",
        "returns the last n elements of the list.\n",
        "– Example: For the input [1, 2, 3, 4, 5] with n=2, the output should be [4, 5]."
      ]
    },
    {
      "cell_type": "code",
      "execution_count": 8,
      "metadata": {
        "colab": {
          "base_uri": "https://localhost:8080/"
        },
        "id": "Fgq0EQ9kXhot",
        "outputId": "51986666-c5d0-4672-ac6c-072246c732d0"
      },
      "outputs": [
        {
          "name": "stdout",
          "output_type": "stream",
          "text": [
            "[4, 5]\n"
          ]
        }
      ],
      "source": [
        "def get_last_n(lst, n):\n",
        "    return lst[-n:]\n",
        "input_list = [1, 2, 3, 4, 5]\n",
        "n = 2\n",
        "output_list = get_last_n(input_list, n)\n",
        "\n",
        "print(output_list)\n"
      ]
    },
    {
      "cell_type": "markdown",
      "metadata": {
        "id": "WXKKm4lNXhou"
      },
      "source": [
        "7. Extract Elements in Reverse Order:\n",
        "Write a Python function that extracts a list of elements in reverse order starting from the second-to-last\n",
        "element and skipping one element in between.\n",
        "• Requirements:\n",
        "– Define a function reverse skip(lst) that takes a list lst and returns a new list containing\n",
        "every second element starting from the second-to-last, moving backward.\n",
        "– Example: For the input [1, 2, 3, 4, 5, 6], the output should be [5, 3, 1]."
      ]
    },
    {
      "cell_type": "code",
      "execution_count": 9,
      "metadata": {
        "colab": {
          "base_uri": "https://localhost:8080/"
        },
        "id": "OX4ITu1xXhou",
        "outputId": "ff51a700-cc93-43d7-d1db-71cdf408343a"
      },
      "outputs": [
        {
          "name": "stdout",
          "output_type": "stream",
          "text": [
            "[5, 3, 1]\n"
          ]
        }
      ],
      "source": [
        "def reverse_skip(lst):\n",
        "    return lst[-2::-2]\n",
        "input_list = [1, 2, 3, 4, 5, 6]\n",
        "output_list = reverse_skip(input_list)\n",
        "\n",
        "print(output_list)\n"
      ]
    },
    {
      "cell_type": "markdown",
      "metadata": {
        "id": "Z6lmsEzOXhou"
      },
      "source": [
        "4.3 Exercise on Nested List:\n"
      ]
    },
    {
      "cell_type": "code",
      "execution_count": 10,
      "metadata": {
        "id": "Mpq0g8fHXhou"
      },
      "outputs": [],
      "source": [
        "\n",
        "from itertools import chain\n",
        "\n",
        "def flatten_nested(lst):\n",
        "    return list(chain.from_iterable(\n",
        "        flatten_nested(item) if isinstance(item, list) else [item]\n",
        "        for item in lst\n",
        "    ))\n",
        "\n",
        "def get_element(lst, indices):\n",
        "    return lst if not indices else get_element(lst[indices[0]], indices[1:])\n",
        "\n",
        "def sum_all(lst):\n",
        "    return sum(\n",
        "        sum_all(item) if isinstance(item, list) else item\n",
        "        for item in lst\n",
        "    )\n",
        "\n",
        "def filter_value(lst, target):\n",
        "    return [\n",
        "        filter_value(item, target) if isinstance(item, list) else item\n",
        "        for item in lst if item != target\n",
        "    ]\n",
        "\n",
        "def max_value(lst):\n",
        "    return max(\n",
        "        (max_value(item) if isinstance(item, list) else item for item in lst),\n",
        "        default=float('-inf')\n",
        "    )\n",
        "\n",
        "def count_occurrences(lst, target):\n",
        "    return sum(\n",
        "        count_occurrences(item, target) if isinstance(item, list) else (item == target)\n",
        "        for item in lst\n",
        "    )\n",
        "\n",
        "def deep_flatten(lst):\n",
        "    for item in lst:\n",
        "        if isinstance(item, list):\n",
        "            yield from deep_flatten(item)\n",
        "        else:\n",
        "            yield item\n",
        "\n",
        "def average_all(lst):\n",
        "    elements = list(deep_flatten(lst))\n",
        "    return sum(elements) / len(elements) if elements else 0\n"
      ]
    },
    {
      "cell_type": "code",
      "execution_count": 11,
      "metadata": {
        "colab": {
          "base_uri": "https://localhost:8080/"
        },
        "id": "dzWa7pJAXhou",
        "outputId": "2d332371-27df-4ab9-cf26-a2ce88db8733"
      },
      "outputs": [
        {
          "name": "stdout",
          "output_type": "stream",
          "text": [
            "[1, 2, 3, 4, 5, 6]\n",
            "[4, 5]\n",
            "21\n",
            "[[1], [3], [4, 5]]\n",
            "6\n",
            "Occurrences of 2: 2\n",
            "<generator object deep_flatten at 0x7da571e37ae0>\n",
            "3.5\n"
          ]
        }
      ],
      "source": [
        "nested_lst = [[1, 2], [3, [4, 5]], 6]\n",
        "print(flatten_nested(nested_lst))\n",
        "print(get_element(nested_lst, [1, 1]))\n",
        "print(sum_all(nested_lst))\n",
        "nested_lst2 = [[1, 2], [3, 2], [4, 5]]\n",
        "print(filter_value(nested_lst2, 2))\n",
        "print(max_value(nested_lst))\n",
        "print(\"Occurrences of 2:\", count_occurrences(nested_lst2, 2))\n",
        "nested_lst3 = [[[1, 2], [3, 4]], [[5, 6], [7, 8]]]\n",
        "print(deep_flatten(nested_lst3))\n",
        "nested_lst4 = [[1, 2], [3, 4], [5, 6]]\n",
        "print(average_all(nested_lst4))"
      ]
    },
    {
      "cell_type": "markdown",
      "metadata": {
        "id": "wxFxumN5Xhou"
      },
      "source": [
        "10.1 Basic Vector and Matrix Operation with Numpy.\n",
        "Problem - 1: Array Creation:\n",
        "Complete the following Tasks:\n",
        "1. Initialize an empty array with size 2X2.\n",
        "2. Initialize an all one array with size 4X2.\n",
        "3. Return a new array of given shape and type, filled with fill value.{Hint: np.full}\n",
        "4. Return a new array of zeros with same shape and type as a given array.{Hint: np.zeros like}\n",
        "5. Return a new array of ones with same shape and type as a given array.{Hint: np.ones like}\n",
        "6. For an existing list new_list = [1,2,3,4] convert to an numpy array.{Hint: np.array()}"
      ]
    },
    {
      "cell_type": "code",
      "execution_count": 12,
      "metadata": {
        "colab": {
          "base_uri": "https://localhost:8080/"
        },
        "id": "wS3ve-BqXhou",
        "outputId": "f720b21e-0e9e-43b7-d1f7-ae3e208b0a64"
      },
      "outputs": [
        {
          "name": "stdout",
          "output_type": "stream",
          "text": [
            "[[1.90848280e-316 0.00000000e+000]\n",
            " [6.82549436e-310 5.32930826e-317]]\n",
            "\n",
            " [[1. 1.]\n",
            " [1. 1.]\n",
            " [1. 1.]\n",
            " [1. 1.]]\n",
            "\n",
            " [[7 7 7]\n",
            " [7 7 7]\n",
            " [7 7 7]]\n",
            "\n",
            " [[0 0]\n",
            " [0 0]]\n",
            "\n",
            " [[1 1]\n",
            " [1 1]]\n",
            "\n",
            " [1 2 3 4]\n"
          ]
        }
      ],
      "source": [
        "import numpy as np\n",
        "\n",
        "empty_matrix = np.empty((2, 2))\n",
        "print(empty_matrix)\n",
        "\n",
        "ones_matrix = np.ones((4, 2))\n",
        "print(\"\\n\", ones_matrix)\n",
        "\n",
        "matrix_shape = (3, 3)\n",
        "fill_num = 7\n",
        "filled_matrix = np.full(matrix_shape, fill_num)\n",
        "print(\"\\n\", filled_matrix)\n",
        "\n",
        "array_sample = np.array([[1, 2], [3, 4]])\n",
        "zeros_clone = np.zeros_like(array_sample)\n",
        "print(\"\\n\", zeros_clone)\n",
        "\n",
        "ones_clone = np.ones_like(array_sample)\n",
        "print(\"\\n\", ones_clone)\n",
        "\n",
        "num_list = [1, 2, 3, 4]\n",
        "numpy_arr = np.array(num_list)\n",
        "print(\"\\n\", numpy_arr)\n"
      ]
    },
    {
      "cell_type": "markdown",
      "metadata": {
        "id": "0MdO-laNXhou"
      },
      "source": [
        "Problem - 2: Array Manipulation: Numerical Ranges and Array indexing:\n",
        "Complete the following tasks:\n",
        "1. Create an array with values ranging from 10 to 49. {Hint:np.arrange()}.\n",
        "2. Create a 3X3 matrix with values ranging from 0 to 8.\n",
        "{Hint:look for np.reshape()}\n",
        "3. Create a 3X3 identity matrix.{Hint:np.eye()}\n",
        "4. Create a random array of size 30 and find the mean of the array.\n",
        "{Hint:check for np.random.random() and array.mean() function}\n",
        "5. Create a 10X10 array with random values and find the minimum and maximum values.\n",
        "6. Create a zero array of size 10 and replace 5th element with 1.\n",
        "7. Reverse an array arr = [1,2,0,0,4,0].\n",
        "8. Create a 2d array with 1 on border and 0 inside.\n",
        "9. Create a 8X8 matrix and fill it with a checkerboard pattern."
      ]
    },
    {
      "cell_type": "code",
      "execution_count": 13,
      "metadata": {
        "colab": {
          "base_uri": "https://localhost:8080/"
        },
        "id": "4vz2LfCxXhou",
        "outputId": "1d55efef-b22f-4316-9ffd-6c346124774c"
      },
      "outputs": [
        {
          "name": "stdout",
          "output_type": "stream",
          "text": [
            "\n",
            " [10 11 12 13 14 15 16 17 18 19 20 21 22 23 24 25 26 27 28 29 30 31 32 33\n",
            " 34 35 36 37 38 39 40 41 42 43 44 45 46 47 48 49]\n",
            "\n",
            " [[0 1 2]\n",
            " [3 4 5]\n",
            " [6 7 8]]\n",
            "\n",
            " [[1. 0. 0.]\n",
            " [0. 1. 0.]\n",
            " [0. 0. 1.]]\n",
            "\n",
            " [0.49126736 0.86821231 0.1214952  0.88472697 0.52623214 0.96315654\n",
            " 0.30351705 0.41367855 0.69536785 0.18736936 0.97407737 0.79844946\n",
            " 0.49867655 0.34763804 0.50197943 0.20969773 0.15269042 0.94713377\n",
            " 0.5865686  0.58013186 0.43979448 0.23811723 0.67033456 0.2349686\n",
            " 0.81186643 0.73016609 0.86267887 0.47919911 0.19351564 0.96746005]\n",
            "\n",
            "Mean 0.5560055881329383\n",
            "\n",
            " [[7.36155991e-02 5.49023401e-01 8.90791431e-01 8.26387610e-01\n",
            "  9.37027409e-01 7.34794922e-01 9.86379071e-01 2.31112677e-01\n",
            "  6.80246673e-01 5.42348225e-01]\n",
            " [3.73594724e-01 6.07372801e-01 5.04072146e-01 2.58071644e-01\n",
            "  2.23738749e-01 5.68610502e-01 3.43244993e-01 2.24697465e-01\n",
            "  7.37848914e-01 6.82205334e-01]\n",
            " [9.15335658e-01 1.10234136e-01 9.05456348e-01 3.84010377e-01\n",
            "  2.66218267e-01 6.48975372e-01 4.59153498e-01 2.69827156e-01\n",
            "  4.59739527e-01 4.00694579e-01]\n",
            " [7.46080969e-01 3.13196065e-01 2.12296986e-02 8.92312506e-01\n",
            "  4.68541406e-01 3.42390765e-01 6.93676557e-02 7.66687327e-01\n",
            "  3.68645830e-01 6.93263936e-01]\n",
            " [4.52350404e-01 5.69324831e-04 7.79356753e-01 2.65047304e-01\n",
            "  6.68387850e-01 7.36078910e-01 8.59760002e-01 2.56896629e-01\n",
            "  8.44882144e-01 7.49094078e-02]\n",
            " [6.99700901e-01 3.43567955e-01 5.44797151e-01 4.19261992e-01\n",
            "  4.52700009e-01 5.10725587e-01 4.14269653e-01 8.44092130e-01\n",
            "  8.45042356e-01 7.67152961e-02]\n",
            " [2.84215618e-01 4.29585364e-01 6.42882424e-01 2.87288610e-01\n",
            "  1.61958930e-01 3.99693476e-02 4.03606150e-01 7.72996612e-01\n",
            "  8.50672748e-01 4.03206581e-01]\n",
            " [7.68188668e-01 4.89385454e-02 4.31154502e-01 5.13660428e-01\n",
            "  8.67481791e-01 7.23167019e-01 8.82265083e-01 8.90997157e-01\n",
            "  5.34381507e-01 2.39330382e-01]\n",
            " [1.76483953e-01 1.94453787e-01 2.83956412e-01 9.76895703e-01\n",
            "  4.84391303e-01 5.04916519e-01 4.75326359e-01 8.41784242e-01\n",
            "  2.81831664e-01 8.70575628e-02]\n",
            " [3.77941076e-01 1.72068248e-01 2.02339247e-01 1.80251611e-01\n",
            "  7.36640855e-02 5.50924765e-01 7.11936022e-01 4.00597559e-01\n",
            "  3.36262306e-01 1.14334325e-01]]\n",
            "\n",
            "Minimum 0.0005693248313679566\n",
            "\n",
            "Maximum 0.9863790714780054\n",
            "\n",
            " [0. 0. 0. 0. 1. 0. 0. 0. 0. 0.]\n",
            "\n",
            " [0 4 0 0 2 1]\n",
            "\n",
            " [[1. 1. 1. 1. 1.]\n",
            " [1. 0. 0. 0. 1.]\n",
            " [1. 0. 0. 0. 1.]\n",
            " [1. 0. 0. 0. 1.]\n",
            " [1. 1. 1. 1. 1.]]\n",
            "\n",
            " [[0 1 0 1 0 1 0 1]\n",
            " [1 0 1 0 1 0 1 0]\n",
            " [0 1 0 1 0 1 0 1]\n",
            " [1 0 1 0 1 0 1 0]\n",
            " [0 1 0 1 0 1 0 1]\n",
            " [1 0 1 0 1 0 1 0]\n",
            " [0 1 0 1 0 1 0 1]\n",
            " [1 0 1 0 1 0 1 0]]\n"
          ]
        }
      ],
      "source": [
        "import numpy as np\n",
        "\n",
        "num_sequence = np.arange(10, 50)\n",
        "print(\"\\n\", num_sequence)\n",
        "\n",
        "reshaped_arr = np.arange(9).reshape(3, 3)\n",
        "print(\"\\n\", reshaped_arr)\n",
        "\n",
        "identity_matrix = np.eye(3)\n",
        "print(\"\\n\", identity_matrix)\n",
        "\n",
        "random_values = np.random.random(30)\n",
        "mean_random_values = random_values.mean()\n",
        "print(\"\\n\", random_values)\n",
        "print(\"\\nMean\", mean_random_values)\n",
        "\n",
        "random_matrix = np.random.random((10, 10))\n",
        "min_element = random_matrix.min()\n",
        "max_element = random_matrix.max()\n",
        "print(\"\\n\", random_matrix)\n",
        "print(\"\\nMinimum\", min_element)\n",
        "print(\"\\nMaximum\", max_element)\n",
        "\n",
        "zero_array = np.zeros(10)\n",
        "zero_array[4] = 1\n",
        "print(\"\\n\", zero_array)\n",
        "\n",
        "original_array = np.array([1, 2, 0, 0, 4, 0])\n",
        "reversed_array = original_array[::-1]\n",
        "print(\"\\n\", reversed_array)\n",
        "\n",
        "border_matrix = np.ones((5, 5))\n",
        "border_matrix[1:-1, 1:-1] = 0\n",
        "print(\"\\n\", border_matrix)\n",
        "\n",
        "# Creating a chessboard pattern\n",
        "chessboard_pattern = np.zeros((8, 8), dtype=int)\n",
        "chessboard_pattern[1::2, ::2] = 1\n",
        "chessboard_pattern[::2, 1::2] = 1\n",
        "print(\"\\n\", chessboard_pattern)\n"
      ]
    },
    {
      "cell_type": "markdown",
      "metadata": {
        "id": "zoRgIN1MXhov"
      },
      "source": [
        "Problem - 3: Array Operations:\n",
        "For the following arrays:\n",
        "x = np.array([[1,2],[3,5]]) and y = np.array([[5,6],[7,8]]);\n",
        "v = np.array([9,10]) and w = np.array([11,12]);\n",
        "Complete all the task using numpy:\n",
        "1. Add the two array.\n",
        "2. Subtract the two array.\n",
        "3. Multiply the array with any integers of your choice.\n",
        "4. Find the square of each element of the array.\n",
        "5. Find the dot product between: v(and)w ; x(and)v ; x(and)y.\n",
        "6. Concatenate x(and)y along row and Concatenate v(and)w along column.\n",
        "{Hint:try np.concatenate() or np.vstack() functions.\n",
        "7. Concatenate x(and)v; if you get an error, observe and explain why did you get the error?"
      ]
    },
    {
      "cell_type": "code",
      "execution_count": 14,
      "metadata": {
        "colab": {
          "base_uri": "https://localhost:8080/"
        },
        "id": "cfRGWvp_Xhov",
        "outputId": "6fa30c1f-18c5-47c1-8b64-07e285113080"
      },
      "outputs": [
        {
          "name": "stdout",
          "output_type": "stream",
          "text": [
            "Sum of a and b:\n",
            " [[ 6  8]\n",
            " [10 13]]\n",
            "Difference of a and b:\n",
            " [[-4 -4]\n",
            " [-4 -3]]\n",
            "Multiplying a by 2:\n",
            " [[ 2  4]\n",
            " [ 6 10]]\n",
            "Multiplying b by 3:\n",
            " [[15 18]\n",
            " [21 24]]\n",
            "Dot product of u and v: 219\n",
            "Dot product of a and u:\n",
            " [29 77]\n",
            "Dot product of a and b:\n",
            " [[19 22]\n",
            " [50 58]]\n",
            "Concatenating a and b along row:\n",
            " [[1 2]\n",
            " [3 5]\n",
            " [5 6]\n",
            " [7 8]]\n",
            "Concatenating u and v along column:\n",
            " [[ 9 11]\n",
            " [10 12]]\n"
          ]
        }
      ],
      "source": [
        "import numpy as np\n",
        "\n",
        "a = np.array([[1, 2], [3, 5]])\n",
        "b = np.array([[5, 6], [7, 8]])\n",
        "u = np.array([9, 10])\n",
        "v = np.array([11, 12])\n",
        "\n",
        "# Addition\n",
        "sum_ab = a + b\n",
        "print(\"Sum of a and b:\\n\", sum_ab)\n",
        "\n",
        "# Subtraction\n",
        "diff_ab = a - b\n",
        "print(\"Difference of a and b:\\n\", diff_ab)\n",
        "\n",
        "# Multiplication\n",
        "mul_a = a * 2\n",
        "mul_b = b * 3\n",
        "print(\"Multiplying a by 2:\\n\", mul_a)\n",
        "print(\"Multiplying b by 3:\\n\", mul_b)\n",
        "\n",
        "# Dot product\n",
        "dot_uv = np.dot(u, v)\n",
        "dot_av = np.dot(a, u)\n",
        "dot_ab = np.dot(a, b)\n",
        "\n",
        "print(\"Dot product of u and v:\", dot_uv)\n",
        "print(\"Dot product of a and u:\\n\", dot_av)\n",
        "print(\"Dot product of a and b:\\n\", dot_ab)\n",
        "\n",
        "# Concatenation\n",
        "concat_ab_row = np.concatenate((a, b), axis=0)\n",
        "concat_uv_col = np.concatenate((u.reshape(-1, 1), v.reshape(-1, 1)), axis=1)\n",
        "\n",
        "print(\"Concatenating a and b along row:\\n\", concat_ab_row)\n",
        "print(\"Concatenating u and v along column:\\n\", concat_uv_col)\n"
      ]
    },
    {
      "cell_type": "markdown",
      "metadata": {
        "id": "ind_7G7XXhov"
      },
      "source": [
        "Problem - 4: Matrix Operations:\n",
        "• For the following arrays:\n",
        "A = np.array([[3,4],[7,8]]) and B = np.array([[5,3],[2,1]]);\n",
        "Prove following with Numpy:\n",
        "1. Prove A.A−1 = I.\n",
        "2. Prove AB ̸= BA.\n",
        "3. Prove (AB)\n",
        "\n",
        "T = BTAT\n",
        ".\n",
        "\n",
        "• Solve the following system of Linear equation using Inverse Methods.\n",
        "\n",
        "2x − 3y + z = −1\n",
        "x − y + 2z = −3\n",
        "3x + y − z = 9\n",
        "\n",
        "{Hint: First use Numpy array to represent the equation in Matrix form. Then Solve for: AX = B}\n",
        "\n",
        "• Now: solve the above equation using np.linalg.inv function.{Explore more about ”linalg” func-\n",
        "tion of Numpy}"
      ]
    },
    {
      "cell_type": "code",
      "execution_count": 15,
      "metadata": {
        "colab": {
          "base_uri": "https://localhost:8080/"
        },
        "id": "pPYrLeFqXhov",
        "outputId": "6f641f16-18d1-467d-9c75-995583189e9b"
      },
      "outputs": [
        {
          "name": "stdout",
          "output_type": "stream",
          "text": [
            "M * M_inv:\n",
            " [[1.00000000e+00 0.00000000e+00]\n",
            " [1.77635684e-15 1.00000000e+00]]\n",
            "MN:\n",
            " [[23 13]\n",
            " [51 29]]\n",
            "NM:\n",
            " [[36 44]\n",
            " [13 16]]\n",
            "Transpose of MN:\n",
            " [[23 51]\n",
            " [13 29]]\n",
            "N^T * M^T:\n",
            " [[23 51]\n",
            " [13 29]]\n",
            "\n",
            "Solution using inverse:\n",
            " [[ 2.]\n",
            " [ 1.]\n",
            " [-2.]]\n",
            "\n",
            "Solution using np.linalg.solve:\n",
            " [[ 2.]\n",
            " [ 1.]\n",
            " [-2.]]\n"
          ]
        }
      ],
      "source": [
        "import numpy as np\n",
        "\n",
        "M = np.array([[3, 4], [7, 8]])\n",
        "N = np.array([[5, 3], [2, 1]])\n",
        "\n",
        "# Calculate inverse of M\n",
        "M_inv = np.linalg.inv(M)\n",
        "identity_check = np.dot(M, M_inv)\n",
        "print(\"M * M_inv:\\n\", identity_check)\n",
        "\n",
        "# Matrix multiplication\n",
        "MN = np.dot(M, N)\n",
        "NM = np.dot(N, M)\n",
        "print(\"MN:\\n\", MN)\n",
        "print(\"NM:\\n\", NM)\n",
        "\n",
        "# Transpose verification\n",
        "MN_Tp = MN.T\n",
        "NTp_MTp = np.dot(N.T, M.T)\n",
        "print(\"Transpose of MN:\\n\", MN_Tp)\n",
        "print(\"N^T * M^T:\\n\", NTp_MTp)\n",
        "\n",
        "# Solving system of equations\n",
        "E = np.array([[2, -3, 1], [1, -1, 2], [3, 1, -1]])\n",
        "F = np.array([[-1], [-3], [9]])\n",
        "\n",
        "E_inv = np.linalg.inv(E)\n",
        "result_1 = np.dot(E_inv, F)\n",
        "print(\"\\nSolution using inverse:\\n\", result_1)\n",
        "\n",
        "result_2 = np.linalg.solve(E, F)\n",
        "print(\"\\nSolution using np.linalg.solve:\\n\", result_2)\n"
      ]
    }
  ],
  "metadata": {
    "colab": {
      "provenance": []
    },
    "kernelspec": {
      "display_name": "Python 3",
      "language": "python",
      "name": "python3"
    },
    "language_info": {
      "codemirror_mode": {
        "name": "ipython",
        "version": 3
      },
      "file_extension": ".py",
      "mimetype": "text/x-python",
      "name": "python",
      "nbconvert_exporter": "python",
      "pygments_lexer": "ipython3",
      "version": "3.11.1"
    }
  },
  "nbformat": 4,
  "nbformat_minor": 0
}
